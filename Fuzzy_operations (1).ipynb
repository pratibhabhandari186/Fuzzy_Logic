{
 "cells": [
  {
   "cell_type": "markdown",
   "id": "b1da4cc3",
   "metadata": {},
   "source": [
    "```\n",
    "Programs: FUZZY OPERATIONS\n",
    "Pratibha Bhandari(22-14-03)\n",
    "M.Tech.(Modelling and Simulation)\n",
    "First year(Second semester)\n",
    "```"
   ]
  },
  {
   "cell_type": "code",
   "execution_count": 7,
   "id": "29a4f05e",
   "metadata": {},
   "outputs": [
    {
     "name": "stdout",
     "output_type": "stream",
     "text": [
      "The fuzzy set A is :  {'a': 0.5, 'b': 0.9, 'c': 0.2}\n",
      "The fuzzy set B is :  {'a': 0.5, 'b': 0.5, 'c': 0.4}\n",
      "the union of two fuzzy set A&B are given by: {'a': 0.5, 'b': 0.9, 'c': 0.4}\n"
     ]
    }
   ],
   "source": [
    "##To find the union of two fuzzy membership functions\n",
    "A= dict()\n",
    "B=dict()\n",
    "C=dict()\n",
    "A={\"a\":0.5, \"b\":0.9, \"c\":0.2}\n",
    "B={\"a\":0.5, \"b\":0.5, \"c\":0.4}\n",
    "print(\"The fuzzy set A is : \", A)\n",
    "print(\"The fuzzy set B is : \", B)\n",
    "for A_Key,B_Key in zip(A,B):\n",
    "    if A[A_Key]>=B[B_Key]:\n",
    "        C[A_Key]=A[A_Key]\n",
    "    elif A[A_Key]<B[B_Key]:\n",
    "        C[B_Key]=B[B_Key]\n",
    "print(\"the union of two fuzzy set A&B are given by:\", C)"
   ]
  },
  {
   "cell_type": "code",
   "execution_count": 8,
   "id": "61cd461f",
   "metadata": {},
   "outputs": [
    {
     "name": "stdout",
     "output_type": "stream",
     "text": [
      "The fuzzy set A is :  {'a': 0.5, 'b': 0.9, 'c': 0.2}\n",
      "The fuzzy set B is :  {'a': 0.5, 'b': 0.5, 'c': 0.4}\n",
      "the intersection of two fuzzy set AB are given by: {'a': 0.5, 'b': 0.5, 'c': 0.2}\n"
     ]
    }
   ],
   "source": [
    "##To find the intersection of two fuzzy set\n",
    "A= dict()\n",
    "B=dict()\n",
    "C=dict()\n",
    "A={\"a\":0.5, \"b\":0.9, \"c\":0.2}\n",
    "B={\"a\":0.5, \"b\":0.5, \"c\":0.4}\n",
    "print(\"The fuzzy set A is : \", A)\n",
    "print(\"The fuzzy set B is : \", B)\n",
    "for A_Key,B_Key in zip(A,B):\n",
    "    if A[A_Key]<=B[B_Key]:\n",
    "        C[A_Key]=A[A_Key]\n",
    "    elif A[A_Key]>B[B_Key]:\n",
    "        C[B_Key]=B[B_Key]\n",
    "print(\"the intersection of two fuzzy set AB are given by:\", C)"
   ]
  },
  {
   "cell_type": "code",
   "execution_count": 9,
   "id": "aed7f800",
   "metadata": {},
   "outputs": [
    {
     "name": "stdout",
     "output_type": "stream",
     "text": [
      "The fuzzy set A is :  {'a': 0.5, 'b': 0.9, 'c': 0.2}\n",
      "The fuzzy set B is :  {'a': 0.5, 'b': 0.5, 'c': 0.4}\n",
      "The complement of two fuzzy set A and B are given by:\n",
      " {'a': 0.5, 'b': 0.09999999999999998, 'c': 0.8} \n",
      " {'a': 0.5, 'b': 0.5, 'c': 0.6}\n"
     ]
    }
   ],
   "source": [
    "##To find the complement of two fuzzy membership functions\n",
    "A= dict()\n",
    "B=dict()\n",
    "C=dict()\n",
    "D=dict()\n",
    "A={\"a\":0.5, \"b\":0.9, \"c\":0.2}\n",
    "B={\"a\":0.5, \"b\":0.5, \"c\":0.4}\n",
    "print(\"The fuzzy set A is : \", A)\n",
    "print(\"The fuzzy set B is : \", B)\n",
    "for A_Key,B_Key in zip(A,B):\n",
    "        C[A_Key]=1-A[A_Key]\n",
    "        D[B_Key]=1-B[B_Key]\n",
    "print(\"The complement of two fuzzy set A and B are given by:\\n\", C,\"\\n\",D)"
   ]
  },
  {
   "cell_type": "code",
   "execution_count": 10,
   "id": "586ef775",
   "metadata": {},
   "outputs": [
    {
     "name": "stdout",
     "output_type": "stream",
     "text": [
      "The fuzzy set A is :  {'a': 0.5, 'b': 0.9, 'c': 0.2}\n",
      "The fuzzy set B is :  {'a': 0.5, 'b': 0.5, 'c': 0.4}\n",
      "the difference of two fuzzy set A&B is given by:  {'b': 0.9, 'c': 0.2}\n"
     ]
    }
   ],
   "source": [
    "##To find the A\\B two fuzzy membership functions\n",
    "A= dict()\n",
    "B=dict()\n",
    "C=dict()\n",
    "A={\"a\":0.5, \"b\":0.9, \"c\":0.2}\n",
    "B={\"a\":0.5, \"b\":0.5, \"c\":0.4}\n",
    "print(\"The fuzzy set A is : \", A)\n",
    "print(\"The fuzzy set B is : \", B)\n",
    "for A_Key,B_Key in zip(A,B):\n",
    "    if A[A_Key]!=B[B_Key]:\n",
    "        C[A_Key]=A[A_Key]\n",
    "print(\"the difference of two fuzzy set A&B is given by: \", C)"
   ]
  },
  {
   "cell_type": "code",
   "execution_count": 11,
   "id": "e900a923",
   "metadata": {},
   "outputs": [
    {
     "name": "stdout",
     "output_type": "stream",
     "text": [
      "The fuzzy set A is :  {'a': 0.5, 'b': 0.9, 'c': 0.2}\n",
      "The fuzzy set B is :  {'a': 0.5, 'b': 0.5, 'c': 0.4}\n",
      "The union of two fuzzy set AB are given by:  {'a': 0.5, 'b': 0.9, 'c': 0.4}\n",
      "Answer(LHS):the complement of the union is : {'a': 0.5, 'b': 0.09999999999999998, 'c': 0.6}\n",
      "\n",
      "The complement of two fuzzy set A B are given by:\n",
      "A':   {'a': 0.5, 'b': 0.09999999999999998, 'c': 0.8} \n",
      "B':   {'a': 0.5, 'b': 0.5, 'c': 0.6}\n",
      "Answer(RHS):The intersection of two fuzzy set AB are given by:  {'a': 0.5, 'b': 0.09999999999999998, 'c': 0.6}\n"
     ]
    }
   ],
   "source": [
    "##Program to illustrate Demorgan's law: (AUB)'=A'intersection B'\n",
    "A= dict()\n",
    "B=dict()\n",
    "C=dict()\n",
    "A={\"a\":0.5, \"b\":0.9, \"c\":0.2}\n",
    "B={\"a\":0.5, \"b\":0.5, \"c\":0.4}\n",
    "print(\"The fuzzy set A is : \", A)\n",
    "print(\"The fuzzy set B is : \", B)\n",
    "for A_Key,B_Key in zip(A,B):\n",
    "    if A[A_Key]>=B[B_Key]:\n",
    "        C[A_Key]=A[A_Key]\n",
    "    elif A[A_Key]<B[B_Key]:\n",
    "        C[B_Key]=B[B_Key]\n",
    "print(\"The union of two fuzzy set AB are given by: \", C)\n",
    "for C_Key in C:\n",
    "        C[C_Key]=1-C[C_Key]\n",
    "print(\"Answer(LHS):the complement of the union is :\",C)\n",
    "\n",
    "D=dict()\n",
    "E=dict()\n",
    "for A_Key,B_Key in zip(A,B):\n",
    "        C[A_Key]=1-A[A_Key]\n",
    "        D[B_Key]=1-B[B_Key]\n",
    "print(\"\\nThe complement of two fuzzy set A B are given by:\\nA':\\\n",
    "\", C,\"\\nB':  \",D)\n",
    "for C_Key,D_Key in zip(A,B):\n",
    "    if C[C_Key]<=D[D_Key]:\n",
    "        E[C_Key]=C[C_Key]\n",
    "    elif C[C_Key]>D[D_Key]:\n",
    "        E[C_Key]=D[D_Key]\n",
    "print(\"Answer(RHS):The intersection of two fuzzy set AB are given by: \", E)"
   ]
  }
 ],
 "metadata": {
  "kernelspec": {
   "display_name": "Python 3 (ipykernel)",
   "language": "python",
   "name": "python3"
  },
  "language_info": {
   "codemirror_mode": {
    "name": "ipython",
    "version": 3
   },
   "file_extension": ".py",
   "mimetype": "text/x-python",
   "name": "python",
   "nbconvert_exporter": "python",
   "pygments_lexer": "ipython3",
   "version": "3.9.13"
  }
 },
 "nbformat": 4,
 "nbformat_minor": 5
}
